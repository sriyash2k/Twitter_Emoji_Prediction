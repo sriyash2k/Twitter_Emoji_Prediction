{
 "cells": [
  {
   "cell_type": "code",
   "execution_count": null,
   "metadata": {},
   "outputs": [],
   "source": [
    "import emoji\n",
    "import numpy as np\n",
    "import pandas as pd\n",
    "import matplotlib.pyplot as plt\n",
    "from keras.utils import to_categorical\n",
    "from keras.models import Sequential\n",
    "from keras.layers import Dense,Dropout,LSTM\n",
    "from keras.callbacks import EarlyStopping,ModelCheckpoint"
   ]
  },
  {
   "cell_type": "code",
   "execution_count": null,
   "metadata": {},
   "outputs": [],
   "source": [
    "train_dataset=pd.read_csv('/home/srinivasan/Downloads/twitter-emoji-prediction/Train.csv')\n",
    "test_dataset=pd.read_csv('/home/srinivasan/Downloads/twitter-emoji-prediction/Test.csv')"
   ]
  },
  {
   "cell_type": "code",
   "execution_count": null,
   "metadata": {},
   "outputs": [],
   "source": [
    "x_train=train_dataset.iloc[:,1].values\n",
    "y_train=train_dataset.iloc[:,2].values\n",
    "x_test=test_dataset.iloc[:,2].values\n",
    "y_train=to_categorical(y_train,num_classes=20)"
   ]
  },
  {
   "cell_type": "code",
   "execution_count": null,
   "metadata": {},
   "outputs": [],
   "source": [
    "emoji_dictionary={\"0\"  :    \":winking_face_with_tongue:\",\n",
    "                  \"1\"  :    \":camera_with_flash:\",\n",
    "                  \"2\"  :    \":smiling_face_with_heart-eyes:\",\n",
    "                  \"3\"  :    \":face_with_tears_of_joy:\",\n",
    "                  \"4\"  :    \":winking_face:\",\n",
    "                  \"5\"  :    \":Christmas_tree:\",\n",
    "                  \"6\"  :    \":camera:\",\n",
    "                  \"7\"  :    \":fire:\",\n",
    "                  \"8\"  :    \":face_blowing_a_kiss:\",\n",
    "                  \"9\"  :    \":black_heart:\",\n",
    "                  \"10\" :    \":beaming_face_with_smiling_eyes:\",\n",
    "                  \"11\" :    \":United_States:\",\n",
    "                  \"12\" :    \":eight-pointed_star:\",\n",
    "                  \"13\" :    \":sparkles:\",\n",
    "                  \"14\" :    \":blue_heart:\",\n",
    "                  \"15\" :    \":two_hearts:\",\n",
    "                  \"16\" :    \":smiling_face_with_sunglasses:\",\n",
    "                  \"17\" :    \":smiling_face_with_smiling_eyes:\",\n",
    "                  \"18\" :    \":white_heart:\",\n",
    "                  \"19\" :    \":hundred_points:\"\n",
    "                }"
   ]
  },
  {
   "cell_type": "code",
   "execution_count": null,
   "metadata": {},
   "outputs": [],
   "source": [
    "f=open('/home/srinivasan/Downloads/glove.6B.50d.txt',encoding='utf-8')\n",
    "embeddings_index={}\n",
    "\n",
    "for line in f:\n",
    "    values=line.split()\n",
    "    words=values[0]\n",
    "    coeffs=np.asarray(values[1:],dtype='float')\n",
    "    embeddings_index[word]=coeffs\n",
    "f.close()   "
   ]
  },
  {
   "cell_type": "code",
   "execution_count": null,
   "metadata": {},
   "outputs": [],
   "source": [
    "def embedding_output(X):\n",
    "    max_len=30\n",
    "    emb_dim=50\n",
    "    embedding_out=np.zeros((X.shape[0],max_len,emb_dim))\n",
    "    \n",
    "    for i in range(X.shape[0]):\n",
    "        X[i]=X[i].split()\n",
    "        for j in range(len(X[i])):\n",
    "            embedding_out[i][j]=embeddings_index[X[i][j].lower()] \n",
    "    return embedding_out"
   ]
  },
  {
   "cell_type": "code",
   "execution_count": null,
   "metadata": {},
   "outputs": [],
   "source": [
    "embeddings_matrix_train=embedding_output(x_train)\n",
    "embeddings_matrix_test=embedding_output(x_test)"
   ]
  },
  {
   "cell_type": "code",
   "execution_count": null,
   "metadata": {},
   "outputs": [],
   "source": [
    "model=Sequential()\n",
    "model.add(LSTM(64,input_shape=(30,50)),return_sequences=True) \n",
    "model.add(LSTM(64,return_sequences=False))\n",
    "model.add(Dropout(0.3))\n",
    "model.add(Dense(units=20,activation='softmax'))"
   ]
  },
  {
   "cell_type": "code",
   "execution_count": null,
   "metadata": {},
   "outputs": [],
   "source": [
    "model.compile(loss='categorical_crossentropy',optimizer='adam',metrics=['accuracy'])"
   ]
  },
  {
   "cell_type": "code",
   "execution_count": null,
   "metadata": {},
   "outputs": [],
   "source": [
    "checkpoint=ModelCheckpoint(\"best_model.h5\",monitor='loss',verbose=True,save_best_only=True)"
   ]
  },
  {
   "cell_type": "code",
   "execution_count": null,
   "metadata": {},
   "outputs": [],
   "source": [
    "earlystopping=EarlyStopping(patience=3)"
   ]
  },
  {
   "cell_type": "code",
   "execution_count": null,
   "metadata": {},
   "outputs": [],
   "source": [
    "hist=model.fit(embeddings_matrix_train,y_train,epochs=20,batch_size=64,shuffle=True)"
   ]
  },
  {
   "cell_type": "code",
   "execution_count": null,
   "metadata": {},
   "outputs": [],
   "source": [
    "pred=model.predict(embeddings_matrix_test)"
   ]
  }
 ],
 "metadata": {
  "kernelspec": {
   "display_name": "Python 3",
   "language": "python",
   "name": "python3"
  },
  "language_info": {
   "codemirror_mode": {
    "name": "ipython",
    "version": 3
   },
   "file_extension": ".py",
   "mimetype": "text/x-python",
   "name": "python",
   "nbconvert_exporter": "python",
   "pygments_lexer": "ipython3",
   "version": "3.6.9"
  }
 },
 "nbformat": 4,
 "nbformat_minor": 4
}
